{
 "cells": [
  {
   "cell_type": "code",
   "execution_count": 60,
   "id": "65231d05",
   "metadata": {},
   "outputs": [],
   "source": [
    "# Importing necessary libraries (Python packages) for the data manipulation, preprocessing, and splitting.\n",
    "import pandas as pd\n",
    "import numpy as np\n",
    "from sklearn.preprocessing import QuantileTransformer\n",
    "from sklearn.model_selection import train_test_split"
   ]
  },
  {
   "cell_type": "code",
   "execution_count": 61,
   "id": "cf221aff",
   "metadata": {},
   "outputs": [],
   "source": [
    "# Reading the data from the CSV file and assigning it to a variable df (dataframe).\n",
    "df = pd.read_csv('credit.csv')"
   ]
  },
  {
   "cell_type": "code",
   "execution_count": 62,
   "id": "aeb06a69",
   "metadata": {},
   "outputs": [],
   "source": [
    "# Specifying a list of unwanted features (columns) and removing them using drop.\n",
    "unwanted_features = ['ID', 'Customer_ID', 'Name', 'Age', 'SSN', 'Type_of_Loan', 'Num_Credit_Inquiries']\n",
    "df.drop(columns=unwanted_features, inplace=True)"
   ]
  },
  {
   "cell_type": "code",
   "execution_count": 63,
   "id": "2b06a512",
   "metadata": {},
   "outputs": [],
   "source": [
    "# Specifying a list of numerical columns required for later data preprocessing.\n",
    "numerical_cols = ['Month', 'Annual_Income', 'Monthly_Inhand_Salary', 'Num_Bank_Accounts', 'Num_Credit_Card',\n",
    "                  'Interest_Rate', 'Delay_from_due_date', 'Num_of_Delayed_Payment', 'Num_of_Loan',\n",
    "                  'Credit_Utilization_Ratio', 'Changed_Credit_Limit', 'Credit_Utilization_Ratio',\n",
    "                  'Outstanding_Debt', 'Credit_History_Age', 'Total_EMI_per_month', \n",
    "                  'Amount_invested_monthly']"
   ]
  },
  {
   "cell_type": "code",
   "execution_count": 64,
   "id": "8dfb09b3",
   "metadata": {},
   "outputs": [],
   "source": [
    "# Transform numerical data using the rank-based inverse normal transformation\n",
    "transformer = QuantileTransformer(output_distribution='normal', random_state=0)\n",
    "df[numerical_cols] = transformer.fit_transform(df[numerical_cols])"
   ]
  },
  {
   "cell_type": "code",
   "execution_count": 65,
   "id": "01f2f4b6",
   "metadata": {},
   "outputs": [],
   "source": [
    "# Specifying a list of categorical columns required for later data preprocessing.\n",
    "categorical_cols = ['Occupation', 'Delay_from_due_date', 'Num_of_Delayed_Payment', \n",
    "                    'Credit_Mix', 'Payment_Behaviour', 'Payment_of_Min_Amount']"
   ]
  },
  {
   "cell_type": "code",
   "execution_count": 66,
   "id": "f87e4739",
   "metadata": {},
   "outputs": [],
   "source": [
    "# Performing one-hot encoding on categorical columns using pd.get_dummies() and updating the df variable.\n",
    "df = pd.get_dummies(df, columns=categorical_cols)"
   ]
  },
  {
   "cell_type": "code",
   "execution_count": 67,
   "id": "b111af69",
   "metadata": {},
   "outputs": [],
   "source": [
    "# Separating features (X) and target variable (y) by creating train-validation-test datasets for model evaluation and development.\n",
    "np.random.seed(0)\n",
    "X = df.drop(columns=['Credit_Score'])\n",
    "y = df['Credit_Score']"
   ]
  },
  {
   "cell_type": "code",
   "execution_count": 68,
   "id": "b96fa56e",
   "metadata": {},
   "outputs": [],
   "source": [
    "# Splitting the data into training, validation, and test sets using stratified sampling with the train_test_split method.\n",
    "X_train, X_temp, y_train, y_temp = train_test_split(X, y, test_size=0.2, random_state=0)\n",
    "X_val, X_test, y_val, y_test = train_test_split(X_temp, y_temp, test_size=0.5, random_state=0)"
   ]
  },
  {
   "cell_type": "code",
   "execution_count": 69,
   "id": "5de2ac75",
   "metadata": {},
   "outputs": [
    {
     "name": "stdout",
     "output_type": "stream",
     "text": [
      "Training set size:  80000\n",
      "Validation set size:  10000\n",
      "Testing set size:  10000\n"
     ]
    }
   ],
   "source": [
    "# Displaying sizes of the training, validation, and test sets to the console.\n",
    "print('Training set size: ', len(X_train))\n",
    "print('Validation set size: ', len(X_val))\n",
    "print('Testing set size: ', len(X_test))"
   ]
  }
 ],
 "metadata": {
  "kernelspec": {
   "display_name": "Python 3 (ipykernel)",
   "language": "python",
   "name": "python3"
  },
  "language_info": {
   "codemirror_mode": {
    "name": "ipython",
    "version": 3
   },
   "file_extension": ".py",
   "mimetype": "text/x-python",
   "name": "python",
   "nbconvert_exporter": "python",
   "pygments_lexer": "ipython3",
   "version": "3.11.3"
  }
 },
 "nbformat": 4,
 "nbformat_minor": 5
}
